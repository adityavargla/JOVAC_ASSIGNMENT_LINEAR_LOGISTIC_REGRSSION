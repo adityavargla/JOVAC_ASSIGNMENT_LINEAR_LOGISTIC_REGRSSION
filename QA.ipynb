{
 "cells": [
  {
   "cell_type": "markdown",
   "id": "435bdca5",
   "metadata": {},
   "source": [
    "Ques 1. What are the assumptions of linear regression?\n",
    "\n",
    "Ans. Linear regression expects that the relationship between inputs and output is a straight line. It also assumes that errors are spread out evenly, the inputs are independent, and there’s no strong overlap between them."
   ]
  },
  {
   "cell_type": "markdown",
   "id": "7af77696",
   "metadata": {},
   "source": [
    "----------------------------------------------------------------------------------------------------------------"
   ]
  },
  {
   "cell_type": "markdown",
   "id": "d797dace",
   "metadata": {},
   "source": [
    "Ques 2. When should you use logistic regression instead of linear regression?\n",
    "\n",
    "Ans. Use logistic regression when your result is a Yes or No type answer, like whether an email is spam or not. Linear regression is for predicting numbers, not categories."
   ]
  },
  {
   "cell_type": "markdown",
   "id": "7efeb82c",
   "metadata": {},
   "source": [
    "-----------------------------------------------------------------------------------------------------------------"
   ]
  },
  {
   "cell_type": "markdown",
   "id": "e42d4709",
   "metadata": {},
   "source": [
    "Ques 3. What is the interpretation of coefficients in logistic regression?\n",
    "\n",
    "Ans. Each coefficient tells us how a feature affects the chances of something happening. A positive value means it increases the chances, and a negative value means it decreases them."
   ]
  },
  {
   "cell_type": "markdown",
   "id": "724828c0",
   "metadata": {},
   "source": [
    "------------------------------------------------------------------------------------------------------------------"
   ]
  },
  {
   "cell_type": "markdown",
   "id": "037d7bb3",
   "metadata": {},
   "source": [
    "Ques 4. What is the difference between sigmoid and softmax functions?\n",
    "\n",
    "Ans. Sigmoid is used when there are only two options (like 0 or 1) it gives one probability. Softmax is for when there are multiple classes, and it gives a probability for each one."
   ]
  },
  {
   "cell_type": "markdown",
   "id": "12a8ae2e",
   "metadata": {},
   "source": [
    "------------------------------------------------------------------------------------------------------------------"
   ]
  },
  {
   "cell_type": "markdown",
   "id": "d69723f9",
   "metadata": {},
   "source": [
    "Ques 5. Why is R-squared not suitable for evaluating logistic regression models?\n",
    "\n",
    "Ans. R-squared is used for models that predict numbers, not categories. Logistic regression is for classification, so it’s better to use scores like accuracy, F1, or AUC instead."
   ]
  },
  {
   "cell_type": "markdown",
   "id": "e023b8fb",
   "metadata": {},
   "source": [
    "---------------------------------------------------------------------------------------"
   ]
  },
  {
   "cell_type": "markdown",
   "id": "0e23d084",
   "metadata": {},
   "source": [
    "<h3 align=\"center\">THE END</h3>"
   ]
  }
 ],
 "metadata": {
  "language_info": {
   "name": "python"
  }
 },
 "nbformat": 4,
 "nbformat_minor": 5
}
